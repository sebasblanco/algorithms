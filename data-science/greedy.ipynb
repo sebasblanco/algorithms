{
 "cells": [
  {
   "cell_type": "markdown",
   "metadata": {},
   "source": [
    "GREEDY ALGORITHM FOR OPTIMIZATION"
   ]
  },
  {
   "cell_type": "code",
   "execution_count": 46,
   "metadata": {},
   "outputs": [
    {
     "name": "stdout",
     "output_type": "stream",
     "text": [
      "TASK         PRIORITY         TIME TO COMPLETE\n",
      " 1              2               30\n",
      " 2              6               200\n",
      " 3              1               20\n",
      " 4              7               70\n",
      " 5              10               120\n",
      " 6              8               60\n",
      " 7              5               150\n"
     ]
    }
   ],
   "source": [
    "priority = [2, 6, 1, 7, 10, 8, 5]\n",
    "time = [30, 200, 20, 70, 120, 60, 150]\n",
    "\n",
    "n_tasks = len(priority)\n",
    "max_time = 8*60\n",
    "time_used = 0\n",
    "max_index = priority.index(max(priority))\n",
    "\n",
    "print (f\"TASK         PRIORITY         TIME TO COMPLETE\")\n",
    "for i in priority:\n",
    "        if (time[max_index] <= max_time):\n",
    "                time_used += time[priority.index(i)]\n",
    "        print(f\" {priority.index(i)+1}              {i}               {time[priority.index(i)]}\")"
   ]
  },
  {
   "cell_type": "code",
   "execution_count": 47,
   "metadata": {},
   "outputs": [
    {
     "name": "stdout",
     "output_type": "stream",
     "text": [
      "TASK         PRIORITY         TIME TO COMPLETE          TIME USED SO FAR\n",
      " 5              10               120                          120\n",
      " 6              8               60                          180\n",
      " 4              7               70                          250\n",
      " 2              6               200                          450\n"
     ]
    }
   ],
   "source": [
    "priority = [2, 6, 1, 7, 10, 8, 5]\n",
    "time = [30, 200, 20, 70, 120, 60, 150]\n",
    "\n",
    "n_tasks = len(priority)\n",
    "max_time = 8*60\n",
    "time_used = 0\n",
    "\n",
    "print (f\"TASK         PRIORITY         TIME TO COMPLETE          TIME USED SO FAR\")\n",
    "for i in priority:\n",
    "        max_priority = max(priority)\n",
    "        max_index = priority.index(max_priority)\n",
    "        time_used += time[max_index]\n",
    "        if (time_used <= max_time):\n",
    "                print(f\" {max_index+1}              {max_priority}               {time[max_index]}                          {time_used}\")\n",
    "                priority[max_index] = 0\n",
    "                time[max_index] = 0"
   ]
  }
 ],
 "metadata": {
  "kernelspec": {
   "display_name": "Python 3",
   "language": "python",
   "name": "python3"
  },
  "language_info": {
   "codemirror_mode": {
    "name": "ipython",
    "version": 3
   },
   "file_extension": ".py",
   "mimetype": "text/x-python",
   "name": "python",
   "nbconvert_exporter": "python",
   "pygments_lexer": "ipython3",
   "version": "3.9.6"
  }
 },
 "nbformat": 4,
 "nbformat_minor": 2
}
